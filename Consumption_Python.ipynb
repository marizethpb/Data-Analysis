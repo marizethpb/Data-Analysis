{
  "nbformat": 4,
  "nbformat_minor": 0,
  "metadata": {
    "colab": {
      "provenance": [],
      "mount_file_id": "1Pl5YUAQbVVtPa25EvicF8kujVUP_VZJG",
      "authorship_tag": "ABX9TyODfIdBBaBwiZRxcIHY366u",
      "include_colab_link": true
    },
    "kernelspec": {
      "name": "python3",
      "display_name": "Python 3"
    },
    "language_info": {
      "name": "python"
    }
  },
  "cells": [
    {
      "cell_type": "markdown",
      "metadata": {
        "id": "view-in-github",
        "colab_type": "text"
      },
      "source": [
        "<a href=\"https://colab.research.google.com/github/marizethpb/Data-Analysis/blob/main/Consumption_Python.ipynb\" target=\"_parent\"><img src=\"https://colab.research.google.com/assets/colab-badge.svg\" alt=\"Open In Colab\"/></a>"
      ]
    },
    {
      "cell_type": "markdown",
      "source": [
        "**Multiple Regression Analysis**\n",
        "\n",
        "Measuring the effect of Per Capita Permanent Income, Uncertainty Index, Property Income / Real Housing Prices, Per Capita Government Expenditure, on Household Consumption"
      ],
      "metadata": {
        "id": "ZWl0ubqaWsDM"
      }
    },
    {
      "cell_type": "markdown",
      "source": [
        "Importing the necessary libraries"
      ],
      "metadata": {
        "id": "8fOtW8tansMe"
      }
    },
    {
      "cell_type": "code",
      "source": [
        "import pandas as pd\n",
        "import statsmodels.formula.api as smf\n",
        "from scipy import stats\n",
        "import statsmodels.stats.api as sms\n",
        "import matplotlib.pyplot as plt\n"
      ],
      "metadata": {
        "id": "w1yIGgxOnVNK"
      },
      "execution_count": 26,
      "outputs": []
    },
    {
      "cell_type": "markdown",
      "source": [
        "Reading the data from an CSV file and putting it on a Dataframe"
      ],
      "metadata": {
        "id": "nYJAImb5m77A"
      }
    },
    {
      "cell_type": "code",
      "execution_count": 27,
      "metadata": {
        "colab": {
          "base_uri": "https://localhost:8080/",
          "height": 261
        },
        "id": "9vBNvdoFcN65",
        "outputId": "673eef5c-657c-49e7-adc7-0299b4db2737"
      },
      "outputs": [
        {
          "output_type": "execute_result",
          "data": {
            "text/plain": [
              "      PCHC  PC_PermanentIncome  Uncertainty Index  Property_income  \\\n",
              "0  2695933         33132.27902           0.151895            18104   \n",
              "1  2636266         30227.93912           0.236686            20362   \n",
              "2  3111056         34670.69021           0.209790            26168   \n",
              "3  2777972         30972.63735           0.565885            24406   \n",
              "4  2898169         35261.87702           0.115393            24094   \n",
              "\n",
              "   Per Capita Gov't expenditure   Real_HP    Incomesqrd  real_hp(inverse)  \\\n",
              "0                   4743.749235  134.4341  1.097748e+09          0.007439   \n",
              "1                   4110.246398  137.4626  9.137283e+08          0.007275   \n",
              "2                   3769.785155  140.3737  1.202057e+09          0.007124   \n",
              "3                   4358.755345  144.8195  9.593043e+08          0.006905   \n",
              "4                   5338.214896  150.6483  1.243400e+09          0.006638   \n",
              "\n",
              "   log_property  log_govt      loguncer  \n",
              "0      4.257775  3.676122  -0.818456808  \n",
              "1      4.308820  3.613868  -0.625826696  \n",
              "2      4.417771  3.576317  -0.678214803  \n",
              "3      4.387497  3.639362  -0.247271664  \n",
              "4      4.381909  3.727396  -0.937818654  "
            ],
            "text/html": [
              "\n",
              "  <div id=\"df-9ebd7065-f41d-462b-8c3b-6b74005ac09a\" class=\"colab-df-container\">\n",
              "    <div>\n",
              "<style scoped>\n",
              "    .dataframe tbody tr th:only-of-type {\n",
              "        vertical-align: middle;\n",
              "    }\n",
              "\n",
              "    .dataframe tbody tr th {\n",
              "        vertical-align: top;\n",
              "    }\n",
              "\n",
              "    .dataframe thead th {\n",
              "        text-align: right;\n",
              "    }\n",
              "</style>\n",
              "<table border=\"1\" class=\"dataframe\">\n",
              "  <thead>\n",
              "    <tr style=\"text-align: right;\">\n",
              "      <th></th>\n",
              "      <th>PCHC</th>\n",
              "      <th>PC_PermanentIncome</th>\n",
              "      <th>Uncertainty Index</th>\n",
              "      <th>Property_income</th>\n",
              "      <th>Per Capita Gov't expenditure</th>\n",
              "      <th>Real_HP</th>\n",
              "      <th>Incomesqrd</th>\n",
              "      <th>real_hp(inverse)</th>\n",
              "      <th>log_property</th>\n",
              "      <th>log_govt</th>\n",
              "      <th>loguncer</th>\n",
              "    </tr>\n",
              "  </thead>\n",
              "  <tbody>\n",
              "    <tr>\n",
              "      <th>0</th>\n",
              "      <td>2695933</td>\n",
              "      <td>33132.27902</td>\n",
              "      <td>0.151895</td>\n",
              "      <td>18104</td>\n",
              "      <td>4743.749235</td>\n",
              "      <td>134.4341</td>\n",
              "      <td>1.097748e+09</td>\n",
              "      <td>0.007439</td>\n",
              "      <td>4.257775</td>\n",
              "      <td>3.676122</td>\n",
              "      <td>-0.818456808</td>\n",
              "    </tr>\n",
              "    <tr>\n",
              "      <th>1</th>\n",
              "      <td>2636266</td>\n",
              "      <td>30227.93912</td>\n",
              "      <td>0.236686</td>\n",
              "      <td>20362</td>\n",
              "      <td>4110.246398</td>\n",
              "      <td>137.4626</td>\n",
              "      <td>9.137283e+08</td>\n",
              "      <td>0.007275</td>\n",
              "      <td>4.308820</td>\n",
              "      <td>3.613868</td>\n",
              "      <td>-0.625826696</td>\n",
              "    </tr>\n",
              "    <tr>\n",
              "      <th>2</th>\n",
              "      <td>3111056</td>\n",
              "      <td>34670.69021</td>\n",
              "      <td>0.209790</td>\n",
              "      <td>26168</td>\n",
              "      <td>3769.785155</td>\n",
              "      <td>140.3737</td>\n",
              "      <td>1.202057e+09</td>\n",
              "      <td>0.007124</td>\n",
              "      <td>4.417771</td>\n",
              "      <td>3.576317</td>\n",
              "      <td>-0.678214803</td>\n",
              "    </tr>\n",
              "    <tr>\n",
              "      <th>3</th>\n",
              "      <td>2777972</td>\n",
              "      <td>30972.63735</td>\n",
              "      <td>0.565885</td>\n",
              "      <td>24406</td>\n",
              "      <td>4358.755345</td>\n",
              "      <td>144.8195</td>\n",
              "      <td>9.593043e+08</td>\n",
              "      <td>0.006905</td>\n",
              "      <td>4.387497</td>\n",
              "      <td>3.639362</td>\n",
              "      <td>-0.247271664</td>\n",
              "    </tr>\n",
              "    <tr>\n",
              "      <th>4</th>\n",
              "      <td>2898169</td>\n",
              "      <td>35261.87702</td>\n",
              "      <td>0.115393</td>\n",
              "      <td>24094</td>\n",
              "      <td>5338.214896</td>\n",
              "      <td>150.6483</td>\n",
              "      <td>1.243400e+09</td>\n",
              "      <td>0.006638</td>\n",
              "      <td>4.381909</td>\n",
              "      <td>3.727396</td>\n",
              "      <td>-0.937818654</td>\n",
              "    </tr>\n",
              "  </tbody>\n",
              "</table>\n",
              "</div>\n",
              "    <div class=\"colab-df-buttons\">\n",
              "\n",
              "  <div class=\"colab-df-container\">\n",
              "    <button class=\"colab-df-convert\" onclick=\"convertToInteractive('df-9ebd7065-f41d-462b-8c3b-6b74005ac09a')\"\n",
              "            title=\"Convert this dataframe to an interactive table.\"\n",
              "            style=\"display:none;\">\n",
              "\n",
              "  <svg xmlns=\"http://www.w3.org/2000/svg\" height=\"24px\" viewBox=\"0 -960 960 960\">\n",
              "    <path d=\"M120-120v-720h720v720H120Zm60-500h600v-160H180v160Zm220 220h160v-160H400v160Zm0 220h160v-160H400v160ZM180-400h160v-160H180v160Zm440 0h160v-160H620v160ZM180-180h160v-160H180v160Zm440 0h160v-160H620v160Z\"/>\n",
              "  </svg>\n",
              "    </button>\n",
              "\n",
              "  <style>\n",
              "    .colab-df-container {\n",
              "      display:flex;\n",
              "      gap: 12px;\n",
              "    }\n",
              "\n",
              "    .colab-df-convert {\n",
              "      background-color: #E8F0FE;\n",
              "      border: none;\n",
              "      border-radius: 50%;\n",
              "      cursor: pointer;\n",
              "      display: none;\n",
              "      fill: #1967D2;\n",
              "      height: 32px;\n",
              "      padding: 0 0 0 0;\n",
              "      width: 32px;\n",
              "    }\n",
              "\n",
              "    .colab-df-convert:hover {\n",
              "      background-color: #E2EBFA;\n",
              "      box-shadow: 0px 1px 2px rgba(60, 64, 67, 0.3), 0px 1px 3px 1px rgba(60, 64, 67, 0.15);\n",
              "      fill: #174EA6;\n",
              "    }\n",
              "\n",
              "    .colab-df-buttons div {\n",
              "      margin-bottom: 4px;\n",
              "    }\n",
              "\n",
              "    [theme=dark] .colab-df-convert {\n",
              "      background-color: #3B4455;\n",
              "      fill: #D2E3FC;\n",
              "    }\n",
              "\n",
              "    [theme=dark] .colab-df-convert:hover {\n",
              "      background-color: #434B5C;\n",
              "      box-shadow: 0px 1px 3px 1px rgba(0, 0, 0, 0.15);\n",
              "      filter: drop-shadow(0px 1px 2px rgba(0, 0, 0, 0.3));\n",
              "      fill: #FFFFFF;\n",
              "    }\n",
              "  </style>\n",
              "\n",
              "    <script>\n",
              "      const buttonEl =\n",
              "        document.querySelector('#df-9ebd7065-f41d-462b-8c3b-6b74005ac09a button.colab-df-convert');\n",
              "      buttonEl.style.display =\n",
              "        google.colab.kernel.accessAllowed ? 'block' : 'none';\n",
              "\n",
              "      async function convertToInteractive(key) {\n",
              "        const element = document.querySelector('#df-9ebd7065-f41d-462b-8c3b-6b74005ac09a');\n",
              "        const dataTable =\n",
              "          await google.colab.kernel.invokeFunction('convertToInteractive',\n",
              "                                                    [key], {});\n",
              "        if (!dataTable) return;\n",
              "\n",
              "        const docLinkHtml = 'Like what you see? Visit the ' +\n",
              "          '<a target=\"_blank\" href=https://colab.research.google.com/notebooks/data_table.ipynb>data table notebook</a>'\n",
              "          + ' to learn more about interactive tables.';\n",
              "        element.innerHTML = '';\n",
              "        dataTable['output_type'] = 'display_data';\n",
              "        await google.colab.output.renderOutput(dataTable, element);\n",
              "        const docLink = document.createElement('div');\n",
              "        docLink.innerHTML = docLinkHtml;\n",
              "        element.appendChild(docLink);\n",
              "      }\n",
              "    </script>\n",
              "  </div>\n",
              "\n",
              "\n",
              "<div id=\"df-ffa1289d-cd22-4855-b2f0-84ba6912e687\">\n",
              "  <button class=\"colab-df-quickchart\" onclick=\"quickchart('df-ffa1289d-cd22-4855-b2f0-84ba6912e687')\"\n",
              "            title=\"Suggest charts.\"\n",
              "            style=\"display:none;\">\n",
              "\n",
              "<svg xmlns=\"http://www.w3.org/2000/svg\" height=\"24px\"viewBox=\"0 0 24 24\"\n",
              "     width=\"24px\">\n",
              "    <g>\n",
              "        <path d=\"M19 3H5c-1.1 0-2 .9-2 2v14c0 1.1.9 2 2 2h14c1.1 0 2-.9 2-2V5c0-1.1-.9-2-2-2zM9 17H7v-7h2v7zm4 0h-2V7h2v10zm4 0h-2v-4h2v4z\"/>\n",
              "    </g>\n",
              "</svg>\n",
              "  </button>\n",
              "\n",
              "<style>\n",
              "  .colab-df-quickchart {\n",
              "      --bg-color: #E8F0FE;\n",
              "      --fill-color: #1967D2;\n",
              "      --hover-bg-color: #E2EBFA;\n",
              "      --hover-fill-color: #174EA6;\n",
              "      --disabled-fill-color: #AAA;\n",
              "      --disabled-bg-color: #DDD;\n",
              "  }\n",
              "\n",
              "  [theme=dark] .colab-df-quickchart {\n",
              "      --bg-color: #3B4455;\n",
              "      --fill-color: #D2E3FC;\n",
              "      --hover-bg-color: #434B5C;\n",
              "      --hover-fill-color: #FFFFFF;\n",
              "      --disabled-bg-color: #3B4455;\n",
              "      --disabled-fill-color: #666;\n",
              "  }\n",
              "\n",
              "  .colab-df-quickchart {\n",
              "    background-color: var(--bg-color);\n",
              "    border: none;\n",
              "    border-radius: 50%;\n",
              "    cursor: pointer;\n",
              "    display: none;\n",
              "    fill: var(--fill-color);\n",
              "    height: 32px;\n",
              "    padding: 0;\n",
              "    width: 32px;\n",
              "  }\n",
              "\n",
              "  .colab-df-quickchart:hover {\n",
              "    background-color: var(--hover-bg-color);\n",
              "    box-shadow: 0 1px 2px rgba(60, 64, 67, 0.3), 0 1px 3px 1px rgba(60, 64, 67, 0.15);\n",
              "    fill: var(--button-hover-fill-color);\n",
              "  }\n",
              "\n",
              "  .colab-df-quickchart-complete:disabled,\n",
              "  .colab-df-quickchart-complete:disabled:hover {\n",
              "    background-color: var(--disabled-bg-color);\n",
              "    fill: var(--disabled-fill-color);\n",
              "    box-shadow: none;\n",
              "  }\n",
              "\n",
              "  .colab-df-spinner {\n",
              "    border: 2px solid var(--fill-color);\n",
              "    border-color: transparent;\n",
              "    border-bottom-color: var(--fill-color);\n",
              "    animation:\n",
              "      spin 1s steps(1) infinite;\n",
              "  }\n",
              "\n",
              "  @keyframes spin {\n",
              "    0% {\n",
              "      border-color: transparent;\n",
              "      border-bottom-color: var(--fill-color);\n",
              "      border-left-color: var(--fill-color);\n",
              "    }\n",
              "    20% {\n",
              "      border-color: transparent;\n",
              "      border-left-color: var(--fill-color);\n",
              "      border-top-color: var(--fill-color);\n",
              "    }\n",
              "    30% {\n",
              "      border-color: transparent;\n",
              "      border-left-color: var(--fill-color);\n",
              "      border-top-color: var(--fill-color);\n",
              "      border-right-color: var(--fill-color);\n",
              "    }\n",
              "    40% {\n",
              "      border-color: transparent;\n",
              "      border-right-color: var(--fill-color);\n",
              "      border-top-color: var(--fill-color);\n",
              "    }\n",
              "    60% {\n",
              "      border-color: transparent;\n",
              "      border-right-color: var(--fill-color);\n",
              "    }\n",
              "    80% {\n",
              "      border-color: transparent;\n",
              "      border-right-color: var(--fill-color);\n",
              "      border-bottom-color: var(--fill-color);\n",
              "    }\n",
              "    90% {\n",
              "      border-color: transparent;\n",
              "      border-bottom-color: var(--fill-color);\n",
              "    }\n",
              "  }\n",
              "</style>\n",
              "\n",
              "  <script>\n",
              "    async function quickchart(key) {\n",
              "      const quickchartButtonEl =\n",
              "        document.querySelector('#' + key + ' button');\n",
              "      quickchartButtonEl.disabled = true;  // To prevent multiple clicks.\n",
              "      quickchartButtonEl.classList.add('colab-df-spinner');\n",
              "      try {\n",
              "        const charts = await google.colab.kernel.invokeFunction(\n",
              "            'suggestCharts', [key], {});\n",
              "      } catch (error) {\n",
              "        console.error('Error during call to suggestCharts:', error);\n",
              "      }\n",
              "      quickchartButtonEl.classList.remove('colab-df-spinner');\n",
              "      quickchartButtonEl.classList.add('colab-df-quickchart-complete');\n",
              "    }\n",
              "    (() => {\n",
              "      let quickchartButtonEl =\n",
              "        document.querySelector('#df-ffa1289d-cd22-4855-b2f0-84ba6912e687 button');\n",
              "      quickchartButtonEl.style.display =\n",
              "        google.colab.kernel.accessAllowed ? 'block' : 'none';\n",
              "    })();\n",
              "  </script>\n",
              "</div>\n",
              "    </div>\n",
              "  </div>\n"
            ]
          },
          "metadata": {},
          "execution_count": 27
        }
      ],
      "source": [
        "data = pd.read_csv(\"/content/drive/MyDrive/Datasets/Consumption2015-2023(2).csv\")\n",
        "df = pd.DataFrame(data)\n",
        "df.head()"
      ]
    },
    {
      "cell_type": "markdown",
      "source": [
        "Renaming some columns to shorten names and remove spaces\n"
      ],
      "metadata": {
        "id": "I0nKJzMpnEpW"
      }
    },
    {
      "cell_type": "code",
      "source": [
        "df.rename(columns = {\"Per Capita Gov't expenditure\":'GOVT'}, inplace = True)\n",
        "df.rename(columns = {\"Uncertainty Index\":'UI'}, inplace = True)"
      ],
      "metadata": {
        "id": "mSPZ3WPwlTtV"
      },
      "execution_count": 28,
      "outputs": []
    },
    {
      "cell_type": "markdown",
      "source": [
        "Performing the Multiple Regression with Per Capita Household Consumption as the dependent variable and Permanent Income, Property Income, Real Housing Prices, and Government Expenditure as independent variables\n"
      ],
      "metadata": {
        "id": "FZDRSPZLn8zC"
      }
    },
    {
      "cell_type": "code",
      "source": [
        "reg1 = smf.ols(\"PCHC~PC_PermanentIncome+UI+Property_income+Real_HP+GOVT\",data = df).fit()"
      ],
      "metadata": {
        "id": "VSb_rApen6G9"
      },
      "execution_count": 29,
      "outputs": []
    },
    {
      "cell_type": "markdown",
      "source": [
        "The model is statistically significant and 4 out of 5 variables (all independent variable except uncertainty index) have significant effect on Real Household Consumption"
      ],
      "metadata": {
        "id": "CGsP36O6ZsJo"
      }
    },
    {
      "cell_type": "code",
      "source": [
        "reg1.summary()"
      ],
      "metadata": {
        "colab": {
          "base_uri": "https://localhost:8080/",
          "height": 572
        },
        "id": "DXhkZhU-jpQJ",
        "outputId": "a9ec62e1-fa34-430e-ffc2-4804a0706710"
      },
      "execution_count": 30,
      "outputs": [
        {
          "output_type": "execute_result",
          "data": {
            "text/plain": [
              "<class 'statsmodels.iolib.summary.Summary'>\n",
              "\"\"\"\n",
              "                            OLS Regression Results                            \n",
              "==============================================================================\n",
              "Dep. Variable:                   PCHC   R-squared:                       0.967\n",
              "Model:                            OLS   Adj. R-squared:                  0.961\n",
              "Method:                 Least Squares   F-statistic:                     148.4\n",
              "Date:                Tue, 26 Sep 2023   Prob (F-statistic):           9.50e-18\n",
              "Time:                        04:29:08   Log-Likelihood:                -387.86\n",
              "No. Observations:                  31   AIC:                             787.7\n",
              "Df Residuals:                      25   BIC:                             796.3\n",
              "Df Model:                           5                                         \n",
              "Covariance Type:            nonrobust                                         \n",
              "======================================================================================\n",
              "                         coef    std err          t      P>|t|      [0.025      0.975]\n",
              "--------------------------------------------------------------------------------------\n",
              "Intercept          -9.975e+05   3.33e+05     -2.992      0.006   -1.68e+06   -3.11e+05\n",
              "PC_PermanentIncome    85.6305      6.246     13.709      0.000      72.766      98.495\n",
              "UI                  1.424e+05   1.17e+05      1.214      0.236   -9.92e+04    3.84e+05\n",
              "Property_income        6.3943      1.470      4.351      0.000       3.368       9.421\n",
              "Real_HP             1.021e+04   2133.393      4.784      0.000    5812.476    1.46e+04\n",
              "GOVT                -137.0860     17.446     -7.858      0.000    -173.016    -101.156\n",
              "==============================================================================\n",
              "Omnibus:                        3.483   Durbin-Watson:                   1.703\n",
              "Prob(Omnibus):                  0.175   Jarque-Bera (JB):                2.566\n",
              "Skew:                          -0.028   Prob(JB):                        0.277\n",
              "Kurtosis:                       4.408   Cond. No.                     1.47e+06\n",
              "==============================================================================\n",
              "\n",
              "Notes:\n",
              "[1] Standard Errors assume that the covariance matrix of the errors is correctly specified.\n",
              "[2] The condition number is large, 1.47e+06. This might indicate that there are\n",
              "strong multicollinearity or other numerical problems.\n",
              "\"\"\""
            ],
            "text/html": [
              "<table class=\"simpletable\">\n",
              "<caption>OLS Regression Results</caption>\n",
              "<tr>\n",
              "  <th>Dep. Variable:</th>          <td>PCHC</td>       <th>  R-squared:         </th> <td>   0.967</td>\n",
              "</tr>\n",
              "<tr>\n",
              "  <th>Model:</th>                   <td>OLS</td>       <th>  Adj. R-squared:    </th> <td>   0.961</td>\n",
              "</tr>\n",
              "<tr>\n",
              "  <th>Method:</th>             <td>Least Squares</td>  <th>  F-statistic:       </th> <td>   148.4</td>\n",
              "</tr>\n",
              "<tr>\n",
              "  <th>Date:</th>             <td>Tue, 26 Sep 2023</td> <th>  Prob (F-statistic):</th> <td>9.50e-18</td>\n",
              "</tr>\n",
              "<tr>\n",
              "  <th>Time:</th>                 <td>04:29:08</td>     <th>  Log-Likelihood:    </th> <td> -387.86</td>\n",
              "</tr>\n",
              "<tr>\n",
              "  <th>No. Observations:</th>      <td>    31</td>      <th>  AIC:               </th> <td>   787.7</td>\n",
              "</tr>\n",
              "<tr>\n",
              "  <th>Df Residuals:</th>          <td>    25</td>      <th>  BIC:               </th> <td>   796.3</td>\n",
              "</tr>\n",
              "<tr>\n",
              "  <th>Df Model:</th>              <td>     5</td>      <th>                     </th>     <td> </td>   \n",
              "</tr>\n",
              "<tr>\n",
              "  <th>Covariance Type:</th>      <td>nonrobust</td>    <th>                     </th>     <td> </td>   \n",
              "</tr>\n",
              "</table>\n",
              "<table class=\"simpletable\">\n",
              "<tr>\n",
              "           <td></td>             <th>coef</th>     <th>std err</th>      <th>t</th>      <th>P>|t|</th>  <th>[0.025</th>    <th>0.975]</th>  \n",
              "</tr>\n",
              "<tr>\n",
              "  <th>Intercept</th>          <td>-9.975e+05</td> <td> 3.33e+05</td> <td>   -2.992</td> <td> 0.006</td> <td>-1.68e+06</td> <td>-3.11e+05</td>\n",
              "</tr>\n",
              "<tr>\n",
              "  <th>PC_PermanentIncome</th> <td>   85.6305</td> <td>    6.246</td> <td>   13.709</td> <td> 0.000</td> <td>   72.766</td> <td>   98.495</td>\n",
              "</tr>\n",
              "<tr>\n",
              "  <th>UI</th>                 <td> 1.424e+05</td> <td> 1.17e+05</td> <td>    1.214</td> <td> 0.236</td> <td>-9.92e+04</td> <td> 3.84e+05</td>\n",
              "</tr>\n",
              "<tr>\n",
              "  <th>Property_income</th>    <td>    6.3943</td> <td>    1.470</td> <td>    4.351</td> <td> 0.000</td> <td>    3.368</td> <td>    9.421</td>\n",
              "</tr>\n",
              "<tr>\n",
              "  <th>Real_HP</th>            <td> 1.021e+04</td> <td> 2133.393</td> <td>    4.784</td> <td> 0.000</td> <td> 5812.476</td> <td> 1.46e+04</td>\n",
              "</tr>\n",
              "<tr>\n",
              "  <th>GOVT</th>               <td> -137.0860</td> <td>   17.446</td> <td>   -7.858</td> <td> 0.000</td> <td> -173.016</td> <td> -101.156</td>\n",
              "</tr>\n",
              "</table>\n",
              "<table class=\"simpletable\">\n",
              "<tr>\n",
              "  <th>Omnibus:</th>       <td> 3.483</td> <th>  Durbin-Watson:     </th> <td>   1.703</td>\n",
              "</tr>\n",
              "<tr>\n",
              "  <th>Prob(Omnibus):</th> <td> 0.175</td> <th>  Jarque-Bera (JB):  </th> <td>   2.566</td>\n",
              "</tr>\n",
              "<tr>\n",
              "  <th>Skew:</th>          <td>-0.028</td> <th>  Prob(JB):          </th> <td>   0.277</td>\n",
              "</tr>\n",
              "<tr>\n",
              "  <th>Kurtosis:</th>      <td> 4.408</td> <th>  Cond. No.          </th> <td>1.47e+06</td>\n",
              "</tr>\n",
              "</table><br/><br/>Notes:<br/>[1] Standard Errors assume that the covariance matrix of the errors is correctly specified.<br/>[2] The condition number is large, 1.47e+06. This might indicate that there are<br/>strong multicollinearity or other numerical problems."
            ],
            "text/latex": "\\begin{center}\n\\begin{tabular}{lclc}\n\\toprule\n\\textbf{Dep. Variable:}      &       PCHC       & \\textbf{  R-squared:         } &     0.967   \\\\\n\\textbf{Model:}              &       OLS        & \\textbf{  Adj. R-squared:    } &     0.961   \\\\\n\\textbf{Method:}             &  Least Squares   & \\textbf{  F-statistic:       } &     148.4   \\\\\n\\textbf{Date:}               & Tue, 26 Sep 2023 & \\textbf{  Prob (F-statistic):} &  9.50e-18   \\\\\n\\textbf{Time:}               &     04:29:08     & \\textbf{  Log-Likelihood:    } &   -387.86   \\\\\n\\textbf{No. Observations:}   &          31      & \\textbf{  AIC:               } &     787.7   \\\\\n\\textbf{Df Residuals:}       &          25      & \\textbf{  BIC:               } &     796.3   \\\\\n\\textbf{Df Model:}           &           5      & \\textbf{                     } &             \\\\\n\\textbf{Covariance Type:}    &    nonrobust     & \\textbf{                     } &             \\\\\n\\bottomrule\n\\end{tabular}\n\\begin{tabular}{lcccccc}\n                             & \\textbf{coef} & \\textbf{std err} & \\textbf{t} & \\textbf{P$> |$t$|$} & \\textbf{[0.025} & \\textbf{0.975]}  \\\\\n\\midrule\n\\textbf{Intercept}           &   -9.975e+05  &     3.33e+05     &    -2.992  &         0.006        &    -1.68e+06    &    -3.11e+05     \\\\\n\\textbf{PC\\_PermanentIncome} &      85.6305  &        6.246     &    13.709  &         0.000        &       72.766    &       98.495     \\\\\n\\textbf{UI}                  &    1.424e+05  &     1.17e+05     &     1.214  &         0.236        &    -9.92e+04    &     3.84e+05     \\\\\n\\textbf{Property\\_income}    &       6.3943  &        1.470     &     4.351  &         0.000        &        3.368    &        9.421     \\\\\n\\textbf{Real\\_HP}            &    1.021e+04  &     2133.393     &     4.784  &         0.000        &     5812.476    &     1.46e+04     \\\\\n\\textbf{GOVT}                &    -137.0860  &       17.446     &    -7.858  &         0.000        &     -173.016    &     -101.156     \\\\\n\\bottomrule\n\\end{tabular}\n\\begin{tabular}{lclc}\n\\textbf{Omnibus:}       &  3.483 & \\textbf{  Durbin-Watson:     } &    1.703  \\\\\n\\textbf{Prob(Omnibus):} &  0.175 & \\textbf{  Jarque-Bera (JB):  } &    2.566  \\\\\n\\textbf{Skew:}          & -0.028 & \\textbf{  Prob(JB):          } &    0.277  \\\\\n\\textbf{Kurtosis:}      &  4.408 & \\textbf{  Cond. No.          } & 1.47e+06  \\\\\n\\bottomrule\n\\end{tabular}\n%\\caption{OLS Regression Results}\n\\end{center}\n\nNotes: \\newline\n [1] Standard Errors assume that the covariance matrix of the errors is correctly specified. \\newline\n [2] The condition number is large, 1.47e+06. This might indicate that there are \\newline\n strong multicollinearity or other numerical problems."
          },
          "metadata": {},
          "execution_count": 30
        }
      ]
    },
    {
      "cell_type": "markdown",
      "source": [
        "Making the residuals vs Fitted scatter plot manually by putting the residuals and predicted values on variables and visualizing it."
      ],
      "metadata": {
        "id": "TWqboK9eYLOO"
      }
    },
    {
      "cell_type": "code",
      "source": [
        "residuals = reg1.resid\n",
        "print(residuals)"
      ],
      "metadata": {
        "colab": {
          "base_uri": "https://localhost:8080/"
        },
        "id": "HU_NXt9jkXyX",
        "outputId": "e530aadd-c47f-42b6-ee8b-5608890cf235"
      },
      "execution_count": 31,
      "outputs": [
        {
          "output_type": "stream",
          "name": "stdout",
          "text": [
            "0      -2848.472006\n",
            "1      41922.198843\n",
            "2      26596.887312\n",
            "3       6120.023321\n",
            "4    -100070.351691\n",
            "5     -66224.052919\n",
            "6       5093.559006\n",
            "7     -11835.135024\n",
            "8     -92408.919008\n",
            "9     -40389.037375\n",
            "10    -35520.415544\n",
            "11     73189.588204\n",
            "12    -20663.996580\n",
            "13    -53639.609452\n",
            "14     71950.477733\n",
            "15     33459.414580\n",
            "16     -1949.217673\n",
            "17    -88541.151000\n",
            "18      9599.917773\n",
            "19     27418.436966\n",
            "20     53397.262100\n",
            "21     57483.160394\n",
            "22     11209.946563\n",
            "23     70640.789205\n",
            "24   -175261.460924\n",
            "25    -42965.714334\n",
            "26     13439.425156\n",
            "27    186860.628377\n",
            "28     50077.750685\n",
            "29    -11486.034875\n",
            "30      5344.102187\n",
            "dtype: float64\n"
          ]
        }
      ]
    },
    {
      "cell_type": "code",
      "source": [
        "predicted = reg1.predict()\n",
        "print(predicted)"
      ],
      "metadata": {
        "colab": {
          "base_uri": "https://localhost:8080/"
        },
        "id": "0evEdppnnK9z",
        "outputId": "dc31592b-3222-4b9d-f292-16f6691b3ee1"
      },
      "execution_count": 32,
      "outputs": [
        {
          "output_type": "stream",
          "name": "stdout",
          "text": [
            "[2698781.47200633 2594343.8011566  3084459.11268821 2771851.97667929\n",
            " 2998239.35169097 2894361.05291884 3314089.44099383 2955325.13502433\n",
            " 3165822.91900756 3023834.03737466 3562999.41554412 3041611.41179622\n",
            " 3284536.99657978 3202357.60945169 3650741.52226741 3275288.58541978\n",
            " 3447657.21767255 3425782.15100049 3926159.08222653 3287193.56303384\n",
            " 2864339.7378996  2972602.83960555 3637712.0534372  3086168.2107951\n",
            " 3305392.46092385 3288518.71433421 3909184.57484417 3284896.37162309\n",
            " 3346804.24931538 3516993.03487543 4190727.89781317]\n"
          ]
        }
      ]
    },
    {
      "cell_type": "markdown",
      "source": [
        "There is a data point that is relative far from the rest so I may need to do hypothesis testing using 5% significance to validate if the model is linear."
      ],
      "metadata": {
        "id": "_ZN0HSILrRMx"
      }
    },
    {
      "cell_type": "code",
      "source": [
        "plt.scatter(reg1.predict(), residuals, color = 'black');\n",
        "plt.axhline(0, color='black')\n",
        "plt.xlabel('Predicted Values');\n",
        "plt.ylabel('Residuals');\n"
      ],
      "metadata": {
        "colab": {
          "base_uri": "https://localhost:8080/",
          "height": 450
        },
        "id": "rVHkYvPenFK2",
        "outputId": "0cac8457-7da7-4fcb-ccd9-b8c980502ef8"
      },
      "execution_count": 33,
      "outputs": [
        {
          "output_type": "display_data",
          "data": {
            "text/plain": [
              "<Figure size 640x480 with 1 Axes>"
            ],
            "image/png": "[encoded data removed]"
          },
          "metadata": {}
        }
      ]
    },
    {
      "cell_type": "markdown",
      "source": [
        "Validating the Residuals vs Fitted by harvey-collier test and rainbow test"
      ],
      "metadata": {
        "id": "Mhbza39lpCN2"
      }
    },
    {
      "cell_type": "markdown",
      "source": [
        "Harvey Collier Test has a bug as it breaks when the independent variable is more than 3"
      ],
      "metadata": {
        "id": "flNQ15ZTqCg5"
      }
    },
    {
      "cell_type": "code",
      "source": [
        "sms.diagnostic.linear_harvey_collier(reg1)"
      ],
      "metadata": {
        "colab": {
          "base_uri": "https://localhost:8080/"
        },
        "id": "UowmK9qvnQ81",
        "outputId": "3fa842a6-f3b5-4a32-dd1c-feeefebf2fdb"
      },
      "execution_count": 34,
      "outputs": [
        {
          "output_type": "execute_result",
          "data": {
            "text/plain": [
              "TtestResult(statistic=nan, pvalue=nan, df=nan)"
            ]
          },
          "metadata": {},
          "execution_count": 34
        }
      ]
    },
    {
      "cell_type": "markdown",
      "source": [
        "Manually editing the paramaters of Harvey Collier Test as it only assumes less or equal to 3 independent variables (syntax from Stack Overflow)"
      ],
      "metadata": {
        "id": "rENP3E_kYgRV"
      }
    },
    {
      "cell_type": "markdown",
      "source": [
        "According to Harvey Collier Test, the model is linear."
      ],
      "metadata": {
        "id": "kEHBnQ72vfin"
      }
    },
    {
      "cell_type": "code",
      "source": [
        "res = reg1\n",
        "skip = len(res.params)  # bug in linear_harvey_collier\n",
        "rr = sms.recursive_olsresiduals(res, skip=skip, alpha=0.95, order_by=None)\n",
        "stats.ttest_1samp(rr[3][skip:], 0)\n"
      ],
      "metadata": {
        "colab": {
          "base_uri": "https://localhost:8080/"
        },
        "id": "xZ4Bq0Rl0mUP",
        "outputId": "19b3ec0c-b422-4193-b23a-d478382b312a"
      },
      "execution_count": 35,
      "outputs": [
        {
          "output_type": "execute_result",
          "data": {
            "text/plain": [
              "TtestResult(statistic=2.031155959867866, pvalue=0.053456038845114795, df=24)"
            ]
          },
          "metadata": {},
          "execution_count": 35
        }
      ]
    },
    {
      "cell_type": "markdown",
      "source": [
        "According to Rainbow Test, the model is linear.\n",
        "\n"
      ],
      "metadata": {
        "id": "CSdMvjypvmEv"
      }
    },
    {
      "cell_type": "code",
      "source": [
        "sms.diagnostic.linear_rainbow(reg1)"
      ],
      "metadata": {
        "colab": {
          "base_uri": "https://localhost:8080/"
        },
        "id": "VQx9G76cytNX",
        "outputId": "76059170-256b-4351-842c-df56f0282d5b"
      },
      "execution_count": 36,
      "outputs": [
        {
          "output_type": "execute_result",
          "data": {
            "text/plain": [
              "(1.435439096025425, 0.29666473409815725)"
            ]
          },
          "metadata": {},
          "execution_count": 36
        }
      ]
    }
  ]
}